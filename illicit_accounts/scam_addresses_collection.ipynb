{
 "cells": [
  {
   "cell_type": "code",
   "execution_count": 57,
   "metadata": {},
   "outputs": [],
   "source": [
    "#Data Retrieval\n",
    "import pandas as pd\n",
    "import requests\n",
    "x = requests.get(\"https://api.cryptoscamdb.org/v1/addresses\")\n",
    "scam_addresses_data = x.json()\n"
   ]
  },
  {
   "cell_type": "code",
   "execution_count": 58,
   "metadata": {},
   "outputs": [],
   "source": [
    "#Address Matching\n",
    "import re\n",
    "regexs = {\n",
    "    \"ETH\": \"^0x[a-fA-F0-9]{40}$\",\n",
    "    \"BTC\": \"^[13][a-km-zA-HJ-NP-Z1-9]{25,34}$\",\n",
    "    \"LTC\": \"^[LM3][a-km-zA-HJ-NP-Z1-9]{26,33}$\",\n",
    "    \"BCH\": \"^((bitcoincash:)?(q|p)[a-z0-9]{41})\",\n",
    "    \"BCH_ALT\": \"^((BITCOINCASH:)?(Q|P)[A-Z0-9]{41})$\",\n",
    "    \"XMR\": \"^4[0-9AB][1-9A-HJ-NP-Za-km-z]{93}$\",\n",
    "    \"XRP\": \"^r[0-9a-zA-Z]{24,34}$\",\n",
    "    \"NEO\": \"^A[0-9a-zA-Z]{33}$\",\n",
    "    \"DASH\": \"^X[1-9A-HJ-NP-Za-km-z]{33}$\",\n",
    "    \"DOGE\": \"^D{1}[5-9A-HJ-NP-U]{1}[1-9A-HJ-NP-Za-km-z]{32}$\"\n",
    "}"
   ]
  },
  {
   "cell_type": "code",
   "execution_count": 59,
   "metadata": {},
   "outputs": [],
   "source": [
    "#Data Processing\n",
    "data_obj = {}\n",
    "data_arr = []\n",
    "for scam in scam_addresses_data['result'].values():\n",
    "    for address in scam:\n",
    "        data_arr.append(address) #array of all illicit addresses\n",
    "        \n",
    "        for coin, addr_pattern in regexs.items():    \n",
    "            if bool(re.match(addr_pattern, address['address'])): #arrays of illicit accounts by blockchain\n",
    "                if coin in data_obj.keys():\n",
    "                    data_obj[coin].append(address)\n",
    "                else:\n",
    "                    data_obj[coin] = [address]\n",
    "                break\n",
    "        "
   ]
  },
  {
   "cell_type": "code",
   "execution_count": 60,
   "metadata": {},
   "outputs": [],
   "source": [
    "#Save all addresses\n",
    "df_all = pd.DataFrame(data_arr)\n",
    "df.to_csv('./scam_addresses_all.csv', index=None)"
   ]
  },
  {
   "cell_type": "code",
   "execution_count": 61,
   "metadata": {},
   "outputs": [],
   "source": [
    "#Save csvs by coin\n",
    "for coin, data in data_obj.items():\n",
    "    df = pd.DataFrame(data)\n",
    "    df.to_csv(f'./scam_addresses_{coin}.csv', index=None)"
   ]
  },
  {
   "cell_type": "code",
   "execution_count": null,
   "metadata": {},
   "outputs": [],
   "source": []
  },
  {
   "cell_type": "code",
   "execution_count": null,
   "metadata": {},
   "outputs": [],
   "source": []
  },
  {
   "cell_type": "code",
   "execution_count": null,
   "metadata": {},
   "outputs": [],
   "source": []
  },
  {
   "cell_type": "code",
   "execution_count": null,
   "metadata": {},
   "outputs": [],
   "source": []
  },
  {
   "cell_type": "code",
   "execution_count": null,
   "metadata": {},
   "outputs": [],
   "source": []
  },
  {
   "cell_type": "code",
   "execution_count": null,
   "metadata": {},
   "outputs": [],
   "source": []
  },
  {
   "cell_type": "code",
   "execution_count": null,
   "metadata": {},
   "outputs": [],
   "source": []
  },
  {
   "cell_type": "code",
   "execution_count": null,
   "metadata": {},
   "outputs": [],
   "source": []
  },
  {
   "cell_type": "code",
   "execution_count": null,
   "metadata": {},
   "outputs": [],
   "source": []
  },
  {
   "cell_type": "code",
   "execution_count": null,
   "metadata": {},
   "outputs": [],
   "source": []
  },
  {
   "cell_type": "code",
   "execution_count": null,
   "metadata": {},
   "outputs": [],
   "source": []
  },
  {
   "cell_type": "code",
   "execution_count": null,
   "metadata": {},
   "outputs": [],
   "source": []
  },
  {
   "cell_type": "code",
   "execution_count": null,
   "metadata": {},
   "outputs": [],
   "source": []
  },
  {
   "cell_type": "code",
   "execution_count": null,
   "metadata": {},
   "outputs": [],
   "source": []
  },
  {
   "cell_type": "code",
   "execution_count": null,
   "metadata": {},
   "outputs": [],
   "source": []
  }
 ],
 "metadata": {
  "kernelspec": {
   "display_name": "transaction-data-ml",
   "language": "python",
   "name": "transaction-data-ml"
  },
  "language_info": {
   "codemirror_mode": {
    "name": "ipython",
    "version": 3
   },
   "file_extension": ".py",
   "mimetype": "text/x-python",
   "name": "python",
   "nbconvert_exporter": "python",
   "pygments_lexer": "ipython3",
   "version": "3.6.9"
  }
 },
 "nbformat": 4,
 "nbformat_minor": 2
}
