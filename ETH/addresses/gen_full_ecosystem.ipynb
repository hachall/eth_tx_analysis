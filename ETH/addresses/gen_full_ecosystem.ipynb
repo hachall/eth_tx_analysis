{
 "cells": [
  {
   "cell_type": "code",
   "execution_count": 1,
   "metadata": {},
   "outputs": [],
   "source": [
    "import csv"
   ]
  },
  {
   "cell_type": "code",
   "execution_count": 2,
   "metadata": {},
   "outputs": [],
   "source": [
    "def append_list_as_row(file_name, list_of_elem):\n",
    "    # Open file in append mode\n",
    "    with open(file_name, 'a+', newline='') as write_obj:\n",
    "        # Create a writer object from csv module\n",
    "        csv_writer = csv.writer(write_obj)\n",
    "        # Add contents of list as last row in the csv file\n",
    "        csv_writer.writerow(list_of_elem)\n",
    "\n",
    "def trunc_list_as_row(file_name, list_of_elem):\n",
    "    # Truncates file to empty then writes row\n",
    "    with open(file_name, 'w+', newline='') as write_obj:\n",
    "        # Create a writer object from csv module\n",
    "        csv_writer = csv.writer(write_obj)\n",
    "        # Add contents of list as last row in the csv file\n",
    "        csv_writer.writerow(list_of_elem)"
   ]
  },
  {
   "cell_type": "code",
   "execution_count": 3,
   "metadata": {},
   "outputs": [],
   "source": [
    "dest_file = 'all.csv'"
   ]
  },
  {
   "cell_type": "code",
   "execution_count": 4,
   "metadata": {},
   "outputs": [],
   "source": [
    "def file_transcribe(dest_file, filename, parse_func):\n",
    "    with open(filename) as csv_file:\n",
    "        csv_reader = csv.reader(csv_file, delimiter=',')\n",
    "        for row in csv_reader:\n",
    "            \n",
    "            new_row = parse_func(row)\n",
    "            append_list_as_row(dest_file, new_row)\n"
   ]
  },
  {
   "cell_type": "code",
   "execution_count": 5,
   "metadata": {},
   "outputs": [],
   "source": [
    "def legit_parse(row):\n",
    "    addr, name, typ, cat = row[0], row[1], row[2], row[3]\n",
    "    if cat == 'DEX.AG':\n",
    "        cat = 'Dex' \n",
    "    \n",
    "    entity = cat if (cat in ['Exchange', 'Mining', 'ICO Wallets', 'Dex']) else ''\n",
    "    \n",
    "     \n",
    "    if typ == 'tokens' or cat in ['Token Contract', 'Token Sale', 'TrustToken', 'Uniswap']:\n",
    "        return [addr, name, 'Smart Contract', 'Token', entity, cat, 'Legit']\n",
    "    \n",
    "    if cat in ['Proxy Contract', 'Old Contract', 'Contract Deployer']:\n",
    "        return [addr, name, 'Smart Contract', '', entity, cat, 'Legit'] \n",
    "    \n",
    "    \n",
    "    if cat in ['Exchange', 'Mining', 'ICO Wallets', 'Dex']:\n",
    "        return [addr, name, 'Wallet', '', entity, cat, 'Legit']  \n",
    "    \n",
    "    \n",
    "    return [addr, name, '', '', entity, cat, 'Legit']\n",
    "    "
   ]
  },
  {
   "cell_type": "code",
   "execution_count": 6,
   "metadata": {},
   "outputs": [],
   "source": [
    "def dodgy_parse(row):\n",
    "    addr, name, typ, cat = row[0], row[1], row[2], row[3]\n",
    "    \n",
    "    if typ == 'tokens':\n",
    "        return [addr, name, 'Smart Contract', 'Token', '', cat, 'Dodgy']\n",
    "    \n",
    "    return [addr, name, '', '', '', cat, 'Dodgy']"
   ]
  },
  {
   "cell_type": "code",
   "execution_count": 7,
   "metadata": {},
   "outputs": [],
   "source": [
    "def verified_parse(row):\n",
    "    addr, name = row[1], row[2]\n",
    "    \n",
    "    return [addr, name, 'Smart Contract', '', '', 'Verified Contract', 'Legit']"
   ]
  },
  {
   "cell_type": "code",
   "execution_count": 8,
   "metadata": {},
   "outputs": [],
   "source": [
    "def scam_parse(row):\n",
    "    addr, name, cat = row[16], row[1], row[7]\n",
    "    \n",
    "    return [addr, name, '', '', '', cat, 'Dodgy']"
   ]
  },
  {
   "cell_type": "code",
   "execution_count": 9,
   "metadata": {},
   "outputs": [],
   "source": [
    "trunc_list_as_row(dest_file, [])"
   ]
  },
  {
   "cell_type": "code",
   "execution_count": 10,
   "metadata": {},
   "outputs": [],
   "source": [
    "file_transcribe(dest_file, 'legit.csv', legit_parse)"
   ]
  },
  {
   "cell_type": "code",
   "execution_count": 11,
   "metadata": {},
   "outputs": [],
   "source": [
    "file_transcribe(dest_file, 'dodgy.csv', dodgy_parse)"
   ]
  },
  {
   "cell_type": "code",
   "execution_count": 12,
   "metadata": {},
   "outputs": [],
   "source": [
    "file_transcribe(dest_file, 'verified_contracts_addresses.csv', verified_parse)"
   ]
  },
  {
   "cell_type": "code",
   "execution_count": 13,
   "metadata": {},
   "outputs": [],
   "source": [
    "file_transcribe(dest_file, 'scam_addresses_ETH.csv', scam_parse)"
   ]
  }
 ],
 "metadata": {
  "kernelspec": {
   "display_name": "Python 3",
   "language": "python",
   "name": "python3"
  },
  "language_info": {
   "codemirror_mode": {
    "name": "ipython",
    "version": 3
   },
   "file_extension": ".py",
   "mimetype": "text/x-python",
   "name": "python",
   "nbconvert_exporter": "python",
   "pygments_lexer": "ipython3",
   "version": "3.6.9"
  }
 },
 "nbformat": 4,
 "nbformat_minor": 2
}
