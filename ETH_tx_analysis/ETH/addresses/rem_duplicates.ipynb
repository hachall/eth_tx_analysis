{
 "cells": [
  {
   "cell_type": "code",
   "execution_count": 1,
   "metadata": {},
   "outputs": [],
   "source": [
    "import csv"
   ]
  },
  {
   "cell_type": "code",
   "execution_count": 2,
   "metadata": {},
   "outputs": [],
   "source": [
    "def append_list_as_row(file_name, list_of_elem):\n",
    "    # Open file in append mode\n",
    "    with open(file_name, 'a+', newline='') as write_obj:\n",
    "        # Create a writer object from csv module\n",
    "        csv_writer = csv.writer(write_obj)\n",
    "        # Add contents of list as last row in the csv file\n",
    "        csv_writer.writerow(list_of_elem)\n",
    "\n",
    "def trunc_list_as_row(file_name, list_of_elem):\n",
    "    # Truncates file to empty then writes row\n",
    "    with open(file_name, 'w+', newline='') as write_obj:\n",
    "        # Create a writer object from csv module\n",
    "        csv_writer = csv.writer(write_obj)\n",
    "        # Add contents of list as last row in the csv file\n",
    "        csv_writer.writerow(list_of_elem)"
   ]
  },
  {
   "cell_type": "code",
   "execution_count": 3,
   "metadata": {},
   "outputs": [],
   "source": [
    "#load in all rows\n",
    "addresses = {}\n",
    "with open(\"all.csv\") as csv_file:\n",
    "    csv_reader = csv.reader(csv_file, delimiter=',')\n",
    "\n",
    "    for row in csv_reader:\n",
    "\n",
    "        addr = row[0].lower()\n",
    "        \n",
    "        if addr in addresses.keys():\n",
    "            addresses[addr].append(row)\n",
    "        else:\n",
    "            addresses[addr] = [row]\n",
    "\n"
   ]
  },
  {
   "cell_type": "code",
   "execution_count": 4,
   "metadata": {},
   "outputs": [],
   "source": [
    "def score(row):\n",
    "    score = 0\n",
    "    for item in row:\n",
    "        if item != '':\n",
    "            score += 1\n",
    "    return score\n",
    "    \n",
    "def get_props(rows):\n",
    "    props = set()\n",
    "    for row in rows:\n",
    "        props.add(row[6])\n",
    "    return list(props)"
   ]
  },
  {
   "cell_type": "code",
   "execution_count": 5,
   "metadata": {},
   "outputs": [],
   "source": [
    "for addr in addresses.keys():\n",
    "    \n",
    "    entries = addresses[addr]\n",
    "    props = get_props(entries)\n",
    "    best = max(entries, key=score)\n",
    "    \n",
    "    addresses[addr] = best[0:6] + props"
   ]
  },
  {
   "cell_type": "code",
   "execution_count": 6,
   "metadata": {},
   "outputs": [],
   "source": [
    "trunc_list_as_row('all2.csv', ['address', 'name', 'account_type', 'contract_type', 'entity', 'label', 'tags'])"
   ]
  },
  {
   "cell_type": "code",
   "execution_count": 7,
   "metadata": {},
   "outputs": [],
   "source": [
    "for item in addresses.values():\n",
    "    \n",
    "    item[0] = item[0].lower()\n",
    "    \n",
    "    append_list_as_row('all2.csv', item)"
   ]
  },
  {
   "cell_type": "code",
   "execution_count": null,
   "metadata": {},
   "outputs": [],
   "source": []
  },
  {
   "cell_type": "code",
   "execution_count": null,
   "metadata": {},
   "outputs": [],
   "source": []
  },
  {
   "cell_type": "code",
   "execution_count": null,
   "metadata": {},
   "outputs": [],
   "source": []
  }
 ],
 "metadata": {
  "kernelspec": {
   "display_name": "transaction-data-ml",
   "language": "python",
   "name": "transaction-data-ml"
  },
  "language_info": {
   "codemirror_mode": {
    "name": "ipython",
    "version": 3
   },
   "file_extension": ".py",
   "mimetype": "text/x-python",
   "name": "python",
   "nbconvert_exporter": "python",
   "pygments_lexer": "ipython3",
   "version": "3.6.9"
  }
 },
 "nbformat": 4,
 "nbformat_minor": 2
}
